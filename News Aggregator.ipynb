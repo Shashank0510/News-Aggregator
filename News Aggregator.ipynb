{
 "cells": [
  {
   "cell_type": "code",
   "execution_count": 8,
   "metadata": {
    "ExecuteTime": {
     "end_time": "2020-11-15T18:08:44.908415Z",
     "start_time": "2020-11-15T18:08:30.071546Z"
    }
   },
   "outputs": [],
   "source": [
    "    import requests\n",
    "    import os\n",
    "    import bs4\n",
    "    from bs4 import BeautifulSoup\n",
    "    from datetime import datetime\n",
    "    import tkinter\n",
    "    from tkinter import messagebox\n",
    "    from tkinter import * \n",
    "    from tkinter.ttk import *\n",
    "    from time import strftime \n",
    "    now = datetime.now() \n",
    "    now=str(now)\n",
    "    def time(): \n",
    "        string = strftime('%H:%M:%S %p') \n",
    "        lbl.config(text = string) \n",
    "        lbl.after(1000, time) \n",
    "        return string\n",
    "    path=\"C:\\\\Users\\\\shash\\\\Desktop\"\n",
    "    os.chdir(path)\n",
    "    \n",
    "    def getnews():\n",
    "        \n",
    " \n",
    "        url=\"https://indianexpress.com/section/india/\"\n",
    "   \n",
    "        headers={\n",
    "            'User-Agent':\"Mozilla/5.0 (Windows NT 10.0; Win64; x64) AppleWebKit/537.36 (KHTML, like Gecko) Chrome/85.0.4183.102 Safari/537.36\"\n",
    "        }\n",
    "        r=requests.get(url,{'headers':headers})\n",
    "        soup= bs4.BeautifulSoup(r.text,'html.parser')\n",
    "        i=0\n",
    "        with open(\"News.txt\", \"a\") as text_file:\n",
    "            text_file.write(\"Last updated Time:\")\n",
    "            text_file.write(now)\n",
    "            text_file.write(\"\\n\")\n",
    "            while i<15:\n",
    "                headline=soup.find_all(\"h2\",{'class':'title'})[i].find_all('a')[-1].text\n",
    "                text_file.write(str(i+1)+\":\"+headline)\n",
    "                text_file.write(\"\\r\\n\")\n",
    "                news=soup.find_all(\"div\",{'class':'articles'})[i].find_all('p')[-1].text\n",
    "                text_file.write(news)\n",
    "                text_file.write(\"\\r\\n\")\n",
    "                i=i+1\n",
    "            messagebox.showinfo(\"Info\",\"News available on\"+ path)\n",
    "            \n",
    "  \n",
    "\n",
    "    top = tkinter.Tk()\n",
    "    top.title(\"News For You\")\n",
    "    top.geometry(\"400x300\")\n",
    "    top.resizable(width=False,height=False) \n",
    "   \n",
    "    lbl = Label(top, font = ('calibri', 40, 'bold'), \n",
    "            background = 'purple', \n",
    "            foreground = 'white') \n",
    "    lbl.pack(anchor = 'center') \n",
    "    time()   \n",
    "    B = tkinter.Button(top, text =\"Get News\",command=getnews,padx=20,pady=10)\n",
    "    B2 =tkinter.Button(top, text =\"Exit\",command=top.destroy,padx=36,pady=10)\n",
    "    B.pack(side = 'top')  \n",
    "    B2.pack(side= 'top')\n",
    "    top.mainloop()\n",
    "\n",
    "\n"
   ]
  }
 ],
 "metadata": {
  "kernelspec": {
   "display_name": "Python 3",
   "language": "python",
   "name": "python3"
  },
  "language_info": {
   "codemirror_mode": {
    "name": "ipython",
    "version": 3
   },
   "file_extension": ".py",
   "mimetype": "text/x-python",
   "name": "python",
   "nbconvert_exporter": "python",
   "pygments_lexer": "ipython3",
   "version": "3.8.3"
  },
  "toc": {
   "base_numbering": 1,
   "nav_menu": {},
   "number_sections": true,
   "sideBar": true,
   "skip_h1_title": false,
   "title_cell": "Table of Contents",
   "title_sidebar": "Contents",
   "toc_cell": false,
   "toc_position": {},
   "toc_section_display": true,
   "toc_window_display": false
  },
  "varInspector": {
   "cols": {
    "lenName": 16,
    "lenType": 16,
    "lenVar": 40
   },
   "kernels_config": {
    "python": {
     "delete_cmd_postfix": "",
     "delete_cmd_prefix": "del ",
     "library": "var_list.py",
     "varRefreshCmd": "print(var_dic_list())"
    },
    "r": {
     "delete_cmd_postfix": ") ",
     "delete_cmd_prefix": "rm(",
     "library": "var_list.r",
     "varRefreshCmd": "cat(var_dic_list()) "
    }
   },
   "position": {
    "height": "799px",
    "left": "1550px",
    "right": "20px",
    "top": "120px",
    "width": "350px"
   },
   "types_to_exclude": [
    "module",
    "function",
    "builtin_function_or_method",
    "instance",
    "_Feature"
   ],
   "window_display": false
  }
 },
 "nbformat": 4,
 "nbformat_minor": 4
}
